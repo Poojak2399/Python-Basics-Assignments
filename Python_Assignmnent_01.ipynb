{
  "nbformat": 4,
  "nbformat_minor": 0,
  "metadata": {
    "colab": {
      "provenance": []
    },
    "kernelspec": {
      "name": "python3",
      "display_name": "Python 3"
    },
    "language_info": {
      "name": "python"
    }
  },
  "cells": [
    {
      "cell_type": "code",
      "execution_count": null,
      "metadata": {
        "id": "TH2CymeSfuT5"
      },
      "outputs": [],
      "source": [
        "#Q.1)In the below elements which of them are values or an expression? eg:- values can be\n",
        "integer or string and expressions will be mathematical operators.\n",
        "*\n",
        "'hello'\n",
        "-87.8\n",
        "-\n",
        "/\n",
        "+\n",
        "6"
      ]
    },
    {
      "cell_type": "code",
      "source": [
        "from traitlets.traitlets import Integer\n",
        "#Answer ->\n",
        "\n",
        "*, -, /, +, = Expression\n",
        "'hello' = string\n",
        "-87.8 = Float\n",
        "6 = Integer\n"
      ],
      "metadata": {
        "id": "ZUbL6nBAf8ys"
      },
      "execution_count": null,
      "outputs": []
    },
    {
      "cell_type": "code",
      "source": [
        "#Q.2) Describe three different data types.\n",
        "Answer -\n",
        "1. int = integer data type is used to store the integet data in memory.\n",
        "          e.g: a = 10\n",
        "2. float = It is used to store floting point values is memory\n",
        "      e.g: b = 10.30\n",
        "\n",
        "3. string : String data type is used to store characters in variable \n",
        "      e.g: Name = \"Pooja\" or\n",
        "            Name = 'Pooja'"
      ],
      "metadata": {
        "colab": {
          "base_uri": "https://localhost:8080/"
        },
        "id": "69KL5yhLf82r",
        "outputId": "95ace75b-36e6-4018-bfd3-86bd5c2ef84d"
      },
      "execution_count": null,
      "outputs": [
        {
          "output_type": "execute_result",
          "data": {
            "text/plain": [
              "float"
            ]
          },
          "metadata": {},
          "execution_count": 1
        }
      ]
    },
    {
      "cell_type": "code",
      "source": [
        "#Q.3) What is the difference between string and Variable?\n",
        "\n",
        "Answer - \n",
        "1. Variable = 1. Variable name is defined by the user to stora interger,float,string etc. values in the memory location\n",
        "              2. we can say that variables are empty box tha we can fill up them with the data values like string, interger values etc.\n",
        "\n",
        "2. String = 1. String is the collection of character values which is stored in a variable in merory \n",
        "            2. Strings are data so, so that we can use them to fill up a variable"
      ],
      "metadata": {
        "id": "xHhHwG7Wf84j"
      },
      "execution_count": null,
      "outputs": []
    },
    {
      "cell_type": "code",
      "source": [
        "#Q.4)  After running the following code, what does the variable bacon contain?\n",
        "\n",
        "\n",
        "bacon = 22\n",
        "bacon + 1\n",
        "\n",
        "Answer = 23"
      ],
      "metadata": {
        "id": "gIqgksRvf875",
        "colab": {
          "base_uri": "https://localhost:8080/"
        },
        "outputId": "b2ba9a5b-89c2-4e11-f77c-548129db012b"
      },
      "execution_count": 1,
      "outputs": [
        {
          "output_type": "execute_result",
          "data": {
            "text/plain": [
              "23"
            ]
          },
          "metadata": {},
          "execution_count": 1
        }
      ]
    },
    {
      "cell_type": "code",
      "source": [
        "#Q.5) What should the values of the following two terms be?\n",
        "\n",
        "'spam' + 'spamspam'\n",
        "'spam' * 3\n",
        "\n",
        "Answer = 'spamspamspam'\n"
      ],
      "metadata": {
        "colab": {
          "base_uri": "https://localhost:8080/",
          "height": 35
        },
        "id": "DQtKXo9Ot_lG",
        "outputId": "7fa79deb-5a4d-497d-d347-b846a0883ab1"
      },
      "execution_count": 2,
      "outputs": [
        {
          "output_type": "execute_result",
          "data": {
            "text/plain": [
              "'spamspamspam'"
            ],
            "application/vnd.google.colaboratory.intrinsic+json": {
              "type": "string"
            }
          },
          "metadata": {},
          "execution_count": 2
        }
      ]
    },
    {
      "cell_type": "code",
      "source": [
        "#Q.6) Why is eggs a valid variable name while 100 is invalid?\n",
        "\n",
        "Anser = In python and other languages variable name start with only character value not with interger values"
      ],
      "metadata": {
        "id": "hX0yKPkOt_oD"
      },
      "execution_count": null,
      "outputs": []
    },
    {
      "cell_type": "code",
      "source": [
        "#Q.7) What three functions can be used to get the integer, floating-point number, or string\n",
        "version of a value?\n",
        "\n",
        "\n",
        "Answer : 1. interger = int()\n",
        "         2. Floating - point number = float()\n",
        "         3. string  = str()"
      ],
      "metadata": {
        "id": "Wr_MyF_tt_rq"
      },
      "execution_count": null,
      "outputs": []
    },
    {
      "cell_type": "code",
      "source": [
        "#Q.8) Why does this expression cause an error? How can you fix it?\n",
        "#'I have eaten'+99+''burritos.'\n",
        "\n",
        "#Asnwer : Because 99 is an integer value and other values are string values, we cannot concatenate string with integer for that we have to convert the integer into String as below\n",
        "A = 'I have eaten'+ str(99) +'burritos'\n",
        "\n",
        "A\n",
        "#print(\"I have eaten'+99+'burritos.\")"
      ],
      "metadata": {
        "colab": {
          "base_uri": "https://localhost:8080/",
          "height": 35
        },
        "id": "C0ypmtuGwgpB",
        "outputId": "1b1cc693-5b8b-4d16-a1db-4adec02ab6e9"
      },
      "execution_count": 15,
      "outputs": [
        {
          "output_type": "execute_result",
          "data": {
            "text/plain": [
              "'I have eaten99burritos'"
            ],
            "application/vnd.google.colaboratory.intrinsic+json": {
              "type": "string"
            }
          },
          "metadata": {},
          "execution_count": 15
        }
      ]
    },
    {
      "cell_type": "code",
      "source": [
        "#Q.9) This assignment statements, like spam = 10. What is the difference between an\n",
        "expression and a statement?\n",
        "\n",
        "\n",
        "Answeer : An expression evaluates to a single value. A statement does not."
      ],
      "metadata": {
        "id": "MrXHXK5mwgsb"
      },
      "execution_count": 12,
      "outputs": []
    },
    {
      "cell_type": "code",
      "source": [
        "Q.10) What is an expression made up of? What do all expressions do?\n",
        "\n",
        "An expression is a combination of values and operators. All expressions evaluate (that is, reduce) to a single value."
      ],
      "metadata": {
        "id": "nsgkjSKtwgy5"
      },
      "execution_count": null,
      "outputs": []
    },
    {
      "cell_type": "code",
      "source": [],
      "metadata": {
        "id": "eoOfZDKQwg2c"
      },
      "execution_count": null,
      "outputs": []
    }
  ]
}